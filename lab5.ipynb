{
 "cells": [
  {
   "cell_type": "code",
   "execution_count": null,
   "metadata": {
    "vscode": {
     "languageId": "python"
    }
   },
   "outputs": [],
   "source": [
    "# Write a function LagrangePoly(i,points) in sage where i is a nonenegative integer and points is a list of\n",
    "# “points” (really 2-element lists) that returns Li(x) (the i-th Lagrange basis polynomial) which can be used\n",
    "# for interpolating the data set contained in points. For example, using the data set from Example 3 from\n",
    "# worksheet 3.1.1-2, LagrangePoly(0,[[2,1],[4,2],[8,3]]) would give L0(x) which we found was equal to\n",
    "# . Ensure your polynomial is expanded and like-terms collected.\n"
   ]
  },
  {
   "cell_type": "code",
   "execution_count": 31,
   "metadata": {
    "vscode": {
     "languageId": "python"
    }
   },
   "outputs": [
    {
     "name": "stdout",
     "output_type": "stream",
     "text": [
      "Lagrange polynomial Example 3 from worksheet 3.1.1-2:\n",
      "1/12*x^2 - x + 8/3\n",
      "Lagrange polynomial Example 4 from worksheet 3.1.1-2:\n",
      "1/2*x^2 - 5/2*x + 3\n"
     ]
    }
   ],
   "source": [
    "def LagrangePoly(i, points):\n",
    "    # ensure i is a non-negative integer\n",
    "    if i < 0:\n",
    "        raise ValueError(\"i must be a non-negative integer\")\n",
    "    # ensure points is a list of 2-element lists\n",
    "    if not isinstance(points, list):\n",
    "        raise ValueError(\"points must be a list\")\n",
    "    # go through the largrange formula\n",
    "    numerator = 1\n",
    "    denominator = 1\n",
    "    for j in range(len(points)):\n",
    "        if j != i:\n",
    "            numerator *= (x - points[j][0])\n",
    "            denominator *= (points[i][0] - points[j][0])\n",
    "    result = numerator / denominator\n",
    "    # expand and collect like terms\n",
    "    result = result.expand()\n",
    "    result = result.collect(x)\n",
    "    return result\n",
    "\n",
    "\n",
    "# Test the function\n",
    "points = [[2, 1], [4, 2], [8, 3]]\n",
    "points2 = [[1, 1], [2, 2], [3, 3]]\n",
    "# print as a polynomial\n",
    "print('Lagrange polynomial Example 3 from worksheet 3.1.1-2:')\n",
    "print(LagrangePoly(0, points))\n",
    "print('Lagrange polynomial Example 4 from worksheet 3.1.1-2:')\n",
    "print(LagrangePoly(0, points2))"
   ]
  }
 ],
 "metadata": {
  "kernelspec": {
   "display_name": "SageMath 9.5",
   "language": "sage",
   "name": "sagemath"
  },
  "language_info": {
   "codemirror_mode": {
    "name": "ipython",
    "version": 3
   },
   "file_extension": ".py",
   "mimetype": "text/x-python",
   "name": "sage",
   "nbconvert_exporter": "python",
   "pygments_lexer": "ipython3",
   "version": "3.9.9"
  },
  "orig_nbformat": 4
 },
 "nbformat": 4,
 "nbformat_minor": 2
}
